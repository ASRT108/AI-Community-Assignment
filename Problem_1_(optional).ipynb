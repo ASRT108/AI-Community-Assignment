{
  "nbformat": 4,
  "nbformat_minor": 0,
  "metadata": {
    "colab": {
      "provenance": []
    },
    "kernelspec": {
      "name": "python3",
      "display_name": "Python 3"
    },
    "language_info": {
      "name": "python"
    },
    "accelerator": "TPU"
  },
  "cells": [
    {
      "cell_type": "code",
      "source": [
        "from google.colab import drive\n",
        "drive.mount('/content/drive')"
      ],
      "metadata": {
        "colab": {
          "base_uri": "https://localhost:8080/"
        },
        "id": "CVwT4hdtYi9E",
        "outputId": "91a01c95-f2d3-4b55-d025-e1f5a2422f77"
      },
      "execution_count": null,
      "outputs": [
        {
          "output_type": "stream",
          "name": "stdout",
          "text": [
            "Mounted at /content/drive\n"
          ]
        }
      ]
    },
    {
      "cell_type": "code",
      "execution_count": null,
      "metadata": {
        "colab": {
          "base_uri": "https://localhost:8080/"
        },
        "id": "KT-1ByJ7Yd0q",
        "outputId": "b08d457b-b079-49ba-e202-daa3329e408a"
      },
      "outputs": [
        {
          "output_type": "stream",
          "name": "stdout",
          "text": [
            "Enter a movie title: The Prestige (2006)\n",
            "17830: The Dark Knight (2008)\n",
            "44912: The Dark Knight Rises (2012)\n",
            "21896: Interstellar (2014)\n",
            "993: Memento (2000)\n",
            "10527: Batman Begins (2005)\n",
            "115499: Tenet (2020)\n",
            "46363: Inception (2010)\n",
            "103035: Dunkirk (2017)\n",
            "59251: I Kissed a Vampire (2010)\n",
            "76235: No Way Out But One (2011)\n",
            "47516: Broken Contact: A Poltergeist Story (2020)\n",
            "40126: Memories of Reality (2021)\n",
            "97983: Pause of the Clock (2015)\n",
            "1782: Dr. Benny (2003)\n",
            "20624: Man of Steel (2013)\n",
            "4081: Insomnia (2002)\n",
            "102831: Turn in Your Grave (2012)\n",
            "32090: Montana (2008)\n",
            "9361: Meridian (2002)\n"
          ]
        }
      ],
      "source": [
        "import pandas as pd\n",
        "import numpy as np\n",
        "from sklearn.feature_extraction.text import CountVectorizer, TfidfTransformer\n",
        "from sklearn.decomposition import TruncatedSVD\n",
        "from sklearn.metrics.pairwise import cosine_similarity\n",
        "\n",
        "df = pd.read_csv('/content/drive/MyDrive/Colab Notebooks/imdb_movie_data.csv')\n",
        "\n",
        "# Combine movie name and tags into a single string\n",
        "df['content'] = df['Movie'].astype(str) + ' ' + df['runtimeMinutes'].astype(str) + ' ' + df['genres'] + ' ' + df['directors'] + ' ' + df['writers'] + ' ' + df['averageRating'].astype(str) + ' ' + df['numVotes'].astype(str) + df['actors'].astype(str)\n",
        "df['content'] = df['content'].fillna('')\n",
        "\n",
        "# Create bag of words\n",
        "vectorizer = CountVectorizer()\n",
        "bow = vectorizer.fit_transform(df['content'])\n",
        "\n",
        "# Convert bag of words to TF-IDF\n",
        "tfidf_transformer = TfidfTransformer()\n",
        "tfidf = tfidf_transformer.fit_transform(bow)\n",
        "\n",
        "# Apply LSA or LSI\n",
        "lsa = TruncatedSVD(n_components=100, algorithm='arpack')\n",
        "lsa.fit(tfidf)\n",
        "\n",
        "# Get the user input\n",
        "user_movie = input(\"Enter a movie title: \")\n",
        "\n",
        "# Find the index of the user movie\n",
        "movie_index = df[df['Movie'] == user_movie].index[0]\n",
        "\n",
        "# Compute the cosine similarities between the user movie and all other movies\n",
        "similarity_scores = cosine_similarity(tfidf[movie_index], tfidf)\n",
        "\n",
        "# Get the top 10 most similar movies\n",
        "similar_movies = list(enumerate(similarity_scores[0]))\n",
        "sorted_similar_movies = sorted(similar_movies, key=lambda x: x[1], reverse=True)[1:20]\n",
        "\n",
        "# Print the top 10 similar movies\n",
        "for i, score in sorted_similar_movies:\n",
        "    print(\"{}: {}\".format(i, df.loc[i, 'Movie']))\n"
      ]
    },
    {
      "cell_type": "code",
      "source": [
        "user_movie = input(\"Enter a movie title: \")\n",
        "\n",
        "# Find the index of the user movie\n",
        "movie_index = df[df['Movie'] == user_movie].index[0]\n",
        "\n",
        "# Compute the cosine similarities between the user movie and all other movies\n",
        "similarity_scores = cosine_similarity(tfidf[movie_index], tfidf)\n",
        "\n",
        "# Get the top 10 most similar movies\n",
        "similar_movies = list(enumerate(similarity_scores[0]))\n",
        "sorted_similar_movies = sorted(similar_movies, key=lambda x: x[1], reverse=True)[1:20]\n",
        "\n",
        "# Print the top 10 similar movies\n",
        "for i, score in sorted_similar_movies:\n",
        "    print(\"{}: {}\".format(i, df.loc[i, 'Movie']))"
      ],
      "metadata": {
        "colab": {
          "base_uri": "https://localhost:8080/"
        },
        "id": "4PcLcfuEolfj",
        "outputId": "ab3c4e60-3d41-4b7e-d801-0f8482dcdefa"
      },
      "execution_count": null,
      "outputs": [
        {
          "output_type": "stream",
          "name": "stdout",
          "text": [
            "Enter a movie title: Interstellar (2014)\n",
            "44912: The Dark Knight Rises (2012)\n",
            "19060: The Prestige (2006)\n",
            "993: Memento (2000)\n",
            "17830: The Dark Knight (2008)\n",
            "46363: Inception (2010)\n",
            "115499: Tenet (2020)\n",
            "103035: Dunkirk (2017)\n",
            "59251: I Kissed a Vampire (2010)\n",
            "10527: Batman Begins (2005)\n",
            "76235: No Way Out But One (2011)\n",
            "47516: Broken Contact: A Poltergeist Story (2020)\n",
            "40126: Memories of Reality (2021)\n",
            "1782: Dr. Benny (2003)\n",
            "20624: Man of Steel (2013)\n",
            "4081: Insomnia (2002)\n",
            "97983: Pause of the Clock (2015)\n",
            "118775: Dying to Be Heard (2013)\n",
            "78127: Project Breakwater (2012)\n",
            "88993: Transformers: The Last Knight (2017)\n"
          ]
        }
      ]
    },
    {
      "cell_type": "code",
      "source": [],
      "metadata": {
        "id": "5CB-uoZWYhyZ"
      },
      "execution_count": null,
      "outputs": []
    }
  ]
}